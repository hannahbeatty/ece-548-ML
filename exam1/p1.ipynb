{
 "cells": [
  {
   "cell_type": "markdown",
   "metadata": {},
   "source": [
    "Problem 1"
   ]
  },
  {
   "cell_type": "code",
   "execution_count": null,
   "metadata": {},
   "outputs": [
    {
     "name": "stdout",
     "output_type": "stream",
     "text": [
      "\n",
      "Confusion matrix for Alcohol & Malic acid:\n",
      "[[13  2  3]\n",
      " [ 5 13  3]\n",
      " [ 2  3 10]]\n",
      "Accuracy for Alcohol & Malic acid: 0.6667\n",
      " \n",
      "Confusion matrix for all features:\n",
      "[[18  0  0]\n",
      " [ 0 21  0]\n",
      " [ 0  1 14]]\n",
      "Accuracy for all features: 0.9815\n"
     ]
    },
    {
     "name": "stderr",
     "output_type": "stream",
     "text": [
      "c:\\Users\\hanna\\ECE_548\\ece-548-ML\\venv\\Lib\\site-packages\\sklearn\\linear_model\\_logistic.py:1256: FutureWarning: 'multi_class' was deprecated in version 1.5 and will be removed in 1.7. Use OneVsRestClassifier(LogisticRegression(..)) instead. Leave it to its default value to avoid this warning.\n",
      "  warnings.warn(\n",
      "c:\\Users\\hanna\\ECE_548\\ece-548-ML\\venv\\Lib\\site-packages\\sklearn\\linear_model\\_logistic.py:1256: FutureWarning: 'multi_class' was deprecated in version 1.5 and will be removed in 1.7. Use OneVsRestClassifier(LogisticRegression(..)) instead. Leave it to its default value to avoid this warning.\n",
      "  warnings.warn(\n"
     ]
    }
   ],
   "source": [
    "import pandas as pd\n",
    "from sklearn.model_selection import train_test_split\n",
    "from sklearn.linear_model import LogisticRegression\n",
    "from sklearn.metrics import confusion_matrix, accuracy_score, classification_report\n",
    "\n",
    "\n",
    "# Load data\n",
    "data = pd.read_csv(\"wine.csv\")\n",
    "data = data.dropna()\n",
    "\n",
    "# Prepare features and labels\n",
    "X = data.drop(\"Class\", axis=1)\n",
    "y = data[\"Class\"]\n",
    "X_train, X_test, y_train, y_test = train_test_split(X, y, test_size=0.3, random_state=42, stratify=y)\n",
    "\n",
    "# Train logistic regression using only Alcohol and Malic acid\n",
    "features = [\"Alcohol\", \"Malic acid\"]\n",
    "log_reg_two_features = LogisticRegression(solver='liblinear', multi_class='ovr')\n",
    "log_reg_two_features.fit(X_train[features], y_train)\n",
    "y_pred_two_features = log_reg_two_features.predict(X_test[features])\n",
    "\n",
    "conf_matrix_two = confusion_matrix(y_test, y_pred_two_features)\n",
    "accuracy_two = accuracy_score(y_test, y_pred_two_features)\n",
    "\n",
    "print(\"\\nConfusion matrix for Alcohol & Malic acid:\")\n",
    "print(conf_matrix_two)\n",
    "print(f\"Accuracy for Alcohol & Malic acid: {accuracy_two:.4f}\")\n",
    "\n",
    "# Train logistic regression on all features\n",
    "log_reg_all = LogisticRegression(solver='liblinear', multi_class='ovr')\n",
    "log_reg_all.fit(X_train, y_train)\n",
    "y_pred_all = log_reg_all.predict(X_test)\n",
    "\n",
    "conf_matrix_all = confusion_matrix(y_test, y_pred_all)\n",
    "accuracy_all = accuracy_score(y_test, y_pred_all)\n",
    "\n",
    "print(\" \")\n",
    "print(\"Confusion matrix for all features:\")\n",
    "print(conf_matrix_all)\n",
    "print(f\"Accuracy for all features: {accuracy_all:.4f}\")\n",
    "\n"
   ]
  }
 ],
 "metadata": {
  "kernelspec": {
   "display_name": "venv",
   "language": "python",
   "name": "python3"
  },
  "language_info": {
   "codemirror_mode": {
    "name": "ipython",
    "version": 3
   },
   "file_extension": ".py",
   "mimetype": "text/x-python",
   "name": "python",
   "nbconvert_exporter": "python",
   "pygments_lexer": "ipython3",
   "version": "3.12.6"
  }
 },
 "nbformat": 4,
 "nbformat_minor": 2
}
