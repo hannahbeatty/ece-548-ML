{
 "cells": [
  {
   "cell_type": "code",
   "execution_count": 9,
   "metadata": {},
   "outputs": [
    {
     "name": "stdout",
     "output_type": "stream",
     "text": [
      "Best Parameters: {'max_depth': 4, 'n_estimators': 200}\n",
      "Best Cross-Validation Accuracy: 0.9753\n",
      "Confusion matrix of best model:\n",
      "[[18  0  0]\n",
      " [ 0 21  0]\n",
      " [ 0  0 15]]\n",
      "Test accuracy of best model: 1.0\n"
     ]
    }
   ],
   "source": [
    "import pandas as pd\n",
    "from sklearn.model_selection import train_test_split\n",
    "from sklearn.ensemble import RandomForestClassifier\n",
    "from sklearn.model_selection import GridSearchCV\n",
    "from sklearn.metrics import confusion_matrix, accuracy_score\n",
    "\n",
    "data = pd.read_csv(\"wine.csv\")\n",
    "data = data.dropna()\n",
    "\n",
    "# all data is already numeric, no need to convert anything into float/int vals\n",
    "\n",
    "X = data.drop(\"Class\", axis=1)\n",
    "y = data[\"Class\"]\n",
    "X_train, X_test, y_train, y_test = train_test_split(X, y, test_size=0.3, random_state=42, stratify=y)\n",
    "\n",
    "#hyperparamter options\n",
    "param_grid = {\n",
    "    'n_estimators': [200, 500, 800],\n",
    "    'max_depth': [4, 5, 6]\n",
    "}\n",
    "\n",
    "#perform grid search with cv\n",
    "rf_test_model = RandomForestClassifier(random_state=42)\n",
    "grid_search = GridSearchCV(rf_test_model, param_grid, cv=5, scoring='accuracy', n_jobs=-1)\n",
    "grid_search.fit(X_train, y_train)\n",
    "\n",
    "print(f\"Best Parameters: {grid_search.best_params_}\")\n",
    "print(f\"Best Cross-Validation Accuracy: {grid_search.best_score_:.4f}\")\n",
    "\n",
    "#ise best model to make prediction\n",
    "best_rf = grid_search.best_estimator_\n",
    "y_best_pred = best_rf.predict(X_test)\n",
    "best_test_accuracy = accuracy_score(y_test, y_best_pred)\n",
    "print(\"Confusion matrix of best model:\")\n",
    "conf_matrix = confusion_matrix(y_test, y_best_pred)\n",
    "print(conf_matrix)\n",
    "print(f\"Test accuracy of best model: {best_test_accuracy}\")\n"
   ]
  }
 ],
 "metadata": {
  "kernelspec": {
   "display_name": "venv",
   "language": "python",
   "name": "python3"
  },
  "language_info": {
   "codemirror_mode": {
    "name": "ipython",
    "version": 3
   },
   "file_extension": ".py",
   "mimetype": "text/x-python",
   "name": "python",
   "nbconvert_exporter": "python",
   "pygments_lexer": "ipython3",
   "version": "3.12.6"
  }
 },
 "nbformat": 4,
 "nbformat_minor": 2
}
